{
  "cells": [
    {
      "cell_type": "markdown",
      "metadata": {
        "id": "view-in-github",
        "colab_type": "text"
      },
      "source": [
        "<a href=\"https://colab.research.google.com/github/bsaipranaykumarraju/bsaipranaykumarraju/blob/main/employee_chatbot.ipynb\" target=\"_parent\"><img src=\"https://colab.research.google.com/assets/colab-badge.svg\" alt=\"Open In Colab\"/></a>"
      ]
    },
    {
      "cell_type": "code",
      "execution_count": null,
      "metadata": {
        "id": "1X7e2chZArB_"
      },
      "outputs": [],
      "source": [
        "import sqlite3\n",
        "from datetime import datetime"
      ]
    },
    {
      "cell_type": "code",
      "execution_count": null,
      "metadata": {
        "id": "lsIw0Y4bA1W1"
      },
      "outputs": [],
      "source": [
        "def connect_db():\n",
        "    return sqlite3.connect('company.db')"
      ]
    },
    {
      "cell_type": "code",
      "execution_count": null,
      "metadata": {
        "id": "BEEpXB2JBAIJ"
      },
      "outputs": [],
      "source": [
        "def execute_query(query, params=None):\n",
        "    conn = connect_db()\n",
        "    cursor = conn.cursor()\n",
        "    if params:\n",
        "        cursor.execute(query, params)\n",
        "    else:\n",
        "        cursor.execute(query)\n",
        "    result = cursor.fetchall()\n",
        "    conn.close()\n",
        "    return result\n"
      ]
    },
    {
      "cell_type": "code",
      "execution_count": null,
      "metadata": {
        "colab": {
          "base_uri": "https://localhost:8080/"
        },
        "id": "jZ6_DB7lBE78",
        "outputId": "1bf91e4e-7081-4807-8823-23cd16d061b5"
      },
      "outputs": [
        {
          "name": "stdout",
          "output_type": "stream",
          "text": [
            "Welcome to the Company Chat Assistant!\n",
            "\n",
            "Enter your query (or 'exit' to quit): employee\n",
            "Sorry, I don't understand that query.\n",
            "\n",
            "Enter your query (or 'exit' to quit): department\n",
            "Sorry, I don't understand that query.\n",
            "\n",
            "Enter your query (or 'exit' to quit): exit\n"
          ]
        }
      ],
      "source": [
        "def handle_query(query):\n",
        "    query = query.lower()\n",
        "    if \"show me all employees in the\" in query:\n",
        "        department = query.split(\"department\")[0].split(\"the \")[-1].strip()\n",
        "        sql = \"SELECT Name FROM Employees WHERE Department = ?\"\n",
        "        result = execute_query(sql, (department,))\n",
        "        if result:\n",
        "            return f\"Employees in {department}: {', '.join([row[0] for row in result])}\"\n",
        "        else:\n",
        "            return f\"No employees found in {department}.\"\n",
        "\n",
        "    elif \"who is the manager of the\" in query:\n",
        "        department = query.split(\"department\")[0].split(\"the \")[-1].strip()\n",
        "        sql = \"SELECT Manager FROM Departments WHERE Name = ?\"\n",
        "        result = execute_query(sql, (department,))\n",
        "        if result:\n",
        "            return f\"The manager of {department} is {result[0][0]}.\"\n",
        "        else:\n",
        "            return f\"No manager found for {department}.\"\n",
        "\n",
        "    elif \"list all employees hired after\" in query:\n",
        "        date = query.split(\"after\")[-1].strip()\n",
        "        try:\n",
        "            datetime.strptime(date, \"%Y-%m-%d\")  # Validate date format\n",
        "            sql = \"SELECT Name FROM Employees WHERE Hire_Date > ?\"\n",
        "            result = execute_query(sql, (date,))\n",
        "            if result:\n",
        "                return f\"Employees hired after {date}: {', '.join([row[0] for row in result])}\"\n",
        "            else:\n",
        "                return f\"No employees hired after {date}.\"\n",
        "        except ValueError:\n",
        "            return \"Invalid date format. Please use YYYY-MM-DD.\"\n",
        "\n",
        "    elif \"what is the total salary expense for the\" in query:\n",
        "        department = query.split(\"department\")[0].split(\"the \")[-1].strip()\n",
        "        sql = \"SELECT SUM(Salary) FROM Employees WHERE Department = ?\"\n",
        "        result = execute_query(sql, (department,))\n",
        "        if result and result[0][0]:\n",
        "            return f\"Total salary expense for {department}: ${result[0][0]}\"\n",
        "        else:\n",
        "            return f\"No salary data found for {department}.\"\n",
        "\n",
        "    else:\n",
        "        return \"Sorry, I don't understand that query.\"\n",
        "\n",
        "# Main chat loop\n",
        "def chat():\n",
        "    print(\"Welcome to the Company Chat Assistant!\")\n",
        "    while True:\n",
        "        user_input = input(\"\\nEnter your query (or 'exit' to quit): \")\n",
        "        if user_input.lower() == 'exit':\n",
        "            break\n",
        "        response = handle_query(user_input)\n",
        "        print(response)\n",
        "\n",
        "if __name__ == \"__main__\":\n",
        "    chat()\n"
      ]
    },
    {
      "cell_type": "code",
      "execution_count": null,
      "metadata": {
        "colab": {
          "base_uri": "https://localhost:8080/"
        },
        "id": "dg_L7pSXCC79",
        "outputId": "4b1ede20-0ed2-4e57-e877-e5c58a0d7054"
      },
      "outputs": [
        {
          "name": "stdout",
          "output_type": "stream",
          "text": [
            "Requirement already satisfied: flask in /usr/local/lib/python3.11/dist-packages (3.1.0)\n",
            "Requirement already satisfied: Werkzeug>=3.1 in /usr/local/lib/python3.11/dist-packages (from flask) (3.1.3)\n",
            "Requirement already satisfied: Jinja2>=3.1.2 in /usr/local/lib/python3.11/dist-packages (from flask) (3.1.5)\n",
            "Requirement already satisfied: itsdangerous>=2.2 in /usr/local/lib/python3.11/dist-packages (from flask) (2.2.0)\n",
            "Requirement already satisfied: click>=8.1.3 in /usr/local/lib/python3.11/dist-packages (from flask) (8.1.8)\n",
            "Requirement already satisfied: blinker>=1.9 in /usr/local/lib/python3.11/dist-packages (from flask) (1.9.0)\n",
            "Requirement already satisfied: MarkupSafe>=2.0 in /usr/local/lib/python3.11/dist-packages (from Jinja2>=3.1.2->flask) (3.0.2)\n"
          ]
        }
      ],
      "source": [
        "pip install flask"
      ]
    },
    {
      "cell_type": "code",
      "execution_count": null,
      "metadata": {
        "colab": {
          "background_save": true,
          "base_uri": "https://localhost:8080/"
        },
        "id": "m9brriyeBaQO",
        "outputId": "894a5f68-debd-41df-9dad-b371447d3168"
      },
      "outputs": [
        {
          "metadata": {
            "tags": null
          },
          "name": "stdout",
          "output_type": "stream",
          "text": [
            " * Serving Flask app '__main__'\n",
            " * Debug mode: on\n"
          ]
        },
        {
          "metadata": {
            "tags": null
          },
          "name": "stderr",
          "output_type": "stream",
          "text": [
            "INFO:werkzeug:\u001b[31m\u001b[1mWARNING: This is a development server. Do not use it in a production deployment. Use a production WSGI server instead.\u001b[0m\n",
            " * Running on http://127.0.0.1:5000\n",
            "INFO:werkzeug:\u001b[33mPress CTRL+C to quit\u001b[0m\n",
            "INFO:werkzeug: * Restarting with stat\n"
          ]
        }
      ],
      "source": [
        "from flask import Flask, request, jsonify\n",
        "\n",
        "app = Flask(__Update sqlite3.1__)\n",
        "\n",
        "@app.route('/chat', methods=['POST'])\n",
        "def chat():\n",
        "    user_input = request.json.get('query')\n",
        "    response = handle_query(user_input)\n",
        "    return jsonify({\"response\": response})\n",
        "\n",
        "if __name__ == \"__main__\":\n",
        "    app.run(debug=True)"
      ]
    },
    {
      "cell_type": "code",
      "execution_count": null,
      "metadata": {
        "id": "BK4G7JEtBuKI"
      },
      "outputs": [],
      "source": []
    }
  ],
  "metadata": {
    "colab": {
      "provenance": [],
      "authorship_tag": "ABX9TyNJKGk8qnI30IQhTHLZW6Hu",
      "include_colab_link": true
    },
    "kernelspec": {
      "display_name": "Python 3",
      "name": "python3"
    },
    "language_info": {
      "name": "python"
    }
  },
  "nbformat": 4,
  "nbformat_minor": 0
}